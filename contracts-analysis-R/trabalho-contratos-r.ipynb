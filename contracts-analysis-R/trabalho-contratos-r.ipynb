{
 "cells": [
  {
   "cell_type": "code",
   "execution_count": 5,
   "metadata": {
    "vscode": {
     "languageId": "r"
    }
   },
   "outputs": [
    {
     "name": "stderr",
     "output_type": "stream",
     "text": [
      "Warning message in readLines(\"../datasets/energy-contracts/entrada.txt\"):\n",
      "\"linha final incompleta encontrada em '../datasets/energy-contracts/entrada.txt'\"\n"
     ]
    },
    {
     "ename": "ERROR",
     "evalue": "Error in `[<-`(`*tmp*`, mes_inicial, mes_final, fornecedor, value = valor): índice fora dos limites\n",
     "output_type": "error",
     "traceback": [
      "Error in `[<-`(`*tmp*`, mes_inicial, mes_final, fornecedor, value = valor): índice fora dos limites\nTraceback:\n"
     ]
    }
   ],
   "source": [
    "carregar_arquivo = function() {\n",
    "    lines <- readLines(\"../datasets/energy-contracts/entrada.txt\")\n",
    "    lines <- lines[-1] \n",
    "    return(lines)\n",
    "}\n",
    "\n",
    "\n",
    "retornar_dados_contrato <- function(linha){\n",
    "    linha_split <- strsplit(linha, split = \" \")[[1]]\n",
    "    fornecedor <- as.integer(linha_split[1])\n",
    "    mes_inicial <- as.integer(linha_split[2])\n",
    "    mes_final <- as.integer(linha_split[3])\n",
    "    valor <- as.double(linha_split[4])\n",
    "    return(list(fornecedor=fornecedor,mes_inicial=mes_inicial,mes_final=mes_final,valor=valor))\n",
    "}\n",
    "\n",
    "retornar_total_fornecedores <- function(linhas){\n",
    "    fornecedores <- sapply(linhas, function(linha) retornar_dados_contrato(linha)$fornecedor)\n",
    "    fornecedor_quant <- length(unique(fornecedores))\n",
    "    return(fornecedor_quant)\n",
    "}\n",
    "\n",
    "retornar_total_meses <- function(linhas){\n",
    "    meses <- sapply(linhas, function(linha) retornar_dados_contrato(linha)$mes_final)\n",
    "    meses <- sort(meses)\n",
    "  \n",
    "    meses_quant <- meses[length(meses)]\n",
    "  \n",
    "   return(meses_quant)\n",
    "}\n",
    "\n",
    "inicializar_matriz <- function(fornecedores_quant, total_meses) {\n",
    "\n",
    "  matriz_inicial <- array(Inf, dim = c( total_meses , total_meses ,fornecedores_quant))\n",
    "  \n",
    "  return(matriz_inicial)\n",
    "}\n",
    "\n",
    "retornar_matriz_de_contratos<- function(linhas_de_texto) {\n",
    "\n",
    "    fornecedores_quant <- retornar_total_fornecedores((linhas_de_texto))\n",
    "    total_meses <- retornar_total_fornecedores((linhas_de_texto))\n",
    "    matriz_de_contratos <- inicializar_matriz(fornecedores_quant,total_meses)\n",
    "\n",
    "    for (linha in linhas_de_texto) {\n",
    "    dados_contrato <- retornar_dados_contrato(linha)\n",
    "    fornecedor <- dados_contrato$fornecedor\n",
    "    mes_inicial <- dados_contrato$mes_inicial\n",
    "    mes_final <- dados_contrato$mes_final\n",
    "    valor <- dados_contrato$valor\n",
    "\n",
    "    matriz_de_contratos[mes_inicial, mes_final,fornecedor] <- valor\n",
    "  }\n",
    "\n",
    "  return(matriz_de_contratos)\n",
    "}\n",
    "\n",
    "\n",
    "linhas = carregar_arquivo()\n",
    "matriz_contratos = retornar_matriz_de_contratos(linhas)\n",
    "\n",
    "\n"
   ]
  },
  {
   "cell_type": "code",
   "execution_count": null,
   "metadata": {
    "vscode": {
     "languageId": "r"
    }
   },
   "outputs": [
    {
     "ename": "ERROR",
     "evalue": "Error in matriz_contratos[37, 97, 6]: índice fora dos limites\n",
     "output_type": "error",
     "traceback": [
      "Error in matriz_contratos[37, 97, 6]: índice fora dos limites\nTraceback:\n"
     ]
    }
   ],
   "source": [
    "print(matriz_contratos[37,97,6])"
   ]
  },
  {
   "cell_type": "code",
   "execution_count": 10,
   "metadata": {
    "vscode": {
     "languageId": "r"
    }
   },
   "outputs": [],
   "source": [
    "print(linhas)"
   ]
  }
 ],
 "metadata": {
  "kernelspec": {
   "display_name": "R",
   "language": "R",
   "name": "ir"
  },
  "language_info": {
   "codemirror_mode": "r",
   "file_extension": ".r",
   "mimetype": "text/x-r-source",
   "name": "R",
   "pygments_lexer": "r",
   "version": "4.4.1"
  }
 },
 "nbformat": 4,
 "nbformat_minor": 2
}
