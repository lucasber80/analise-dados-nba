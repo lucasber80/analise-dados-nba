{
 "cells": [
  {
   "cell_type": "code",
   "execution_count": 82,
   "metadata": {
    "vscode": {
     "languageId": "r"
    }
   },
   "outputs": [
    {
     "name": "stdout",
     "output_type": "stream",
     "text": [
      "$fornecedor\n",
      "[1] 1\n",
      "\n",
      "$mes_inicial\n",
      "[1] 1\n",
      "\n",
      "$mes_final\n",
      "[1] 2\n",
      "\n",
      "$valor\n",
      "[1] 105\n",
      "\n"
     ]
    }
   ],
   "source": [
    "carregar_arquivo = function() {\n",
    "    lines = readLines(\"entrada_testes.txt\")\n",
    "    return(lines)\n",
    "}\n",
    "\n",
    "\n",
    "retornar_dados_contrato = function(linha){\n",
    "    linha_split = strsplit(linha, split = \" \")[[1]]\n",
    "    fornecedor = as.integer(linha_split[1])\n",
    "    mes_inicial = as.integer(linha_split[2])\n",
    "    mes_final = as.integer(linha_split[3])\n",
    "    valor = as.double(linha_split[4])\n",
    "    return(list(fornecedor=fornecedor,mes_inicial=mes_inicial,mes_final=mes_final,valor=valor))\n",
    "}\n",
    "\n",
    "\n",
    "arquivo = carregar_arquivo()\n",
    "linha = arquivo[2]\n",
    "\n",
    "print(retornar_dados_contrato(linha))\n"
   ]
  }
 ],
 "metadata": {
  "kernelspec": {
   "display_name": "R",
   "language": "R",
   "name": "ir"
  },
  "language_info": {
   "codemirror_mode": "r",
   "file_extension": ".r",
   "mimetype": "text/x-r-source",
   "name": "R",
   "pygments_lexer": "r",
   "version": "4.4.1"
  }
 },
 "nbformat": 4,
 "nbformat_minor": 2
}
