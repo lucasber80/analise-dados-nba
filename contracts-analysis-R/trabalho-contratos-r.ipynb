{
 "cells": [
  {
   "cell_type": "code",
   "execution_count": 87,
   "metadata": {
    "vscode": {
     "languageId": "r"
    }
   },
   "outputs": [
    {
     "name": "stdout",
     "output_type": "stream",
     "text": [
      "[1] \"1 1 2 105.0\"\n",
      "Fornecedor: 1 Mês Inicial: 1 Mês Final: 2 Valor: 105 \n",
      "[1] \"1 1 1 10.0\"\n",
      "Fornecedor: 1 Mês Inicial: 1 Mês Final: 1 Valor: 10 \n",
      "[1] \"2 2 2 20.0\"\n",
      "Fornecedor: 2 Mês Inicial: 2 Mês Final: 2 Valor: 20 \n",
      "[1] \"1 2 2 100.0\"\n",
      "Fornecedor: 1 Mês Inicial: 2 Mês Final: 2 Valor: 100 \n",
      "[1] \"2 2 3 60.0\"\n",
      "Fornecedor: 2 Mês Inicial: 2 Mês Final: 3 Valor: 60 \n",
      "[1] \"1 2 3 102.0\"\n",
      "Fornecedor: 1 Mês Inicial: 2 Mês Final: 3 Valor: 102 \n",
      "[1] \"1 1 3 108.0\"\n",
      "Fornecedor: 1 Mês Inicial: 1 Mês Final: 3 Valor: 108 \n",
      "[1] \"2 1 1 80.0\"\n",
      "Fornecedor: 2 Mês Inicial: 1 Mês Final: 1 Valor: 80 \n",
      "[1] \"1 3 3 10.0\"\n",
      "Fornecedor: 1 Mês Inicial: 3 Mês Final: 3 Valor: 10 \n",
      "[1] \"2 3 3 50.0\"\n",
      "Fornecedor: 2 Mês Inicial: 3 Mês Final: 3 Valor: 50 \n",
      "[1] \"2 1 2 95.0\"\n",
      "Fornecedor: 2 Mês Inicial: 1 Mês Final: 2 Valor: 95 \n",
      "[1] \"2 1 3 115.0\"\n",
      "Fornecedor: 2 Mês Inicial: 1 Mês Final: 3 Valor: 115 \n"
     ]
    }
   ],
   "source": [
    "carregar_arquivo = function() {\n",
    "    lines <- readLines(\"../datasets/energy-contracts/entrada_testes.txt\")\n",
    "    lines <- lines[-1] \n",
    "    return(lines)\n",
    "}\n",
    "\n",
    "\n",
    "retornar_dados_contrato <- function(linha){\n",
    "    linha_split <- strsplit(linha, split = \" \")[[1]]\n",
    "    fornecedor <- as.integer(linha_split[1])\n",
    "    mes_inicial <- as.integer(linha_split[2])\n",
    "    mes_final <- as.integer(linha_split[3])\n",
    "    valor <- as.double(linha_split[4])\n",
    "    return(list(fornecedor=fornecedor,mes_inicial=mes_inicial,mes_final=mes_final,valor=valor))\n",
    "}\n",
    "\n",
    "retornar_total_fornecedores <- function(linhas){\n",
    "    fornecedores <- sapply(linhas, function(linha) retornar_dados_contrato(linha)$fornecedor)\n",
    "    fornecedor_quant <- length(unique(fornecedores))\n",
    "    return(fornecedor_quant)\n",
    "}\n",
    "\n",
    "retornar_total_meses <- function(linhas){\n",
    "    meses <- sapply(linhas, function(linha) retornar_dados_contrato(linha)$mes_final)\n",
    "    meses <- sort(meses)\n",
    "  \n",
    "    meses_quant <- meses[length(meses)]\n",
    "  \n",
    "   return(meses_quant)\n",
    "}\n",
    "\n",
    "inicializar_matriz <- function(fornecedores_quant, total_meses) {\n",
    "\n",
    "  matriz_inicial <- array(Inf, dim = c(fornecedores_quant + 1, total_meses + 1, total_meses + 1))\n",
    "  \n",
    "  return(matriz_inicial)\n",
    "}\n",
    "\n",
    "retornar_matriz_de_contratos<- function(linhas_de_texto) {\n",
    "\n",
    "    fornecedores_quant <- retornar_total_fornecedores((linhas_de_texto))\n",
    "    total_meses <- retornar_total_fornecedores((linhas_de_texto))\n",
    "    matriz_de_contratos <- inicializar_matriz(fornecedores_quant,total_meses)\n",
    "\n",
    "    for (linha in linhas_de_texto) {\n",
    "    dados_contrato <- retornar_dados_contrato(linha)\n",
    "    fornecedor <- dados_contrato$fornecedor\n",
    "    mes_inicial <- dados_contrato$mes_inicial\n",
    "    mes_final <- dados_contrato$mes_final\n",
    "    valor <- dados_contrato$valor\n",
    "    print(linha)\n",
    "    cat(\"Fornecedor:\", fornecedor, \"Mês Inicial:\", mes_inicial, \"Mês Final:\", mes_final, \"Valor:\", valor, \"\\n\")\n",
    "\n",
    "    matriz_de_contratos[fornecedor, mes_inicial, mes_final] <- valor\n",
    "  }\n",
    "\n",
    "  return(matriz_de_contratos)\n",
    "}\n",
    "\n",
    "\n",
    "linhas = carregar_arquivo()\n",
    "matriz_contratos = retornar_matriz_de_contratos(linhas)\n",
    "\n",
    "\n"
   ]
  },
  {
   "cell_type": "code",
   "execution_count": 90,
   "metadata": {
    "vscode": {
     "languageId": "r"
    }
   },
   "outputs": [
    {
     "name": "stdout",
     "output_type": "stream",
     "text": [
      "[1] 10\n"
     ]
    }
   ],
   "source": [
    "print(matriz_contratos[1,1,1])"
   ]
  }
 ],
 "metadata": {
  "kernelspec": {
   "display_name": "R",
   "language": "R",
   "name": "ir"
  },
  "language_info": {
   "codemirror_mode": "r",
   "file_extension": ".r",
   "mimetype": "text/x-r-source",
   "name": "R",
   "pygments_lexer": "r",
   "version": "4.4.1"
  }
 },
 "nbformat": 4,
 "nbformat_minor": 2
}
